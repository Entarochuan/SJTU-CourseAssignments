{
 "cells": [
  {
   "cell_type": "code",
   "execution_count": 1,
   "metadata": {},
   "outputs": [
    {
     "name": "stdout",
     "output_type": "stream",
     "text": [
      "The directory [./data/cifar_10/frames_number_20_split_by_number] already exists.\n",
      "The directory [./data/cifar_10/frames_number_20_split_by_number] already exists.\n"
     ]
    }
   ],
   "source": [
    "import torch\n",
    "from spikingjelly.datasets.cifar10_dvs import CIFAR10DVS\n",
    "from torchvision import transforms\n",
    "\n",
    "root_dir = './data/cifar_10'\n",
    "transfrom = transforms.ToTensor()\n",
    "train_set = CIFAR10DVS(root_dir, data_type='frame', frames_number=20, split_by='number')\n",
    "test_set = CIFAR10DVS(root_dir, data_type='frame', frames_number=20, split_by='number')\n"
   ]
  },
  {
   "cell_type": "code",
   "execution_count": 2,
   "metadata": {},
   "outputs": [],
   "source": [
    "device = 0\n",
    "batch_size = 64\n",
    "learning_rate = 1e-3\n",
    "T = int(20)\n",
    "tau = float(100.0)\n",
    "train_epoch = int(10)\n",
    "log_dir = './log/'"
   ]
  },
  {
   "cell_type": "code",
   "execution_count": 3,
   "metadata": {},
   "outputs": [],
   "source": [
    "x, y = train_set[0]\n",
    "x = torch.tensor(x)\n"
   ]
  },
  {
   "cell_type": "code",
   "execution_count": 21,
   "metadata": {},
   "outputs": [
    {
     "name": "stdout",
     "output_type": "stream",
     "text": [
      "/bin/bash: nvidia-smi: command not found\n"
     ]
    }
   ],
   "source": [
    "!nvidia-smi"
   ]
  },
  {
   "cell_type": "code",
   "execution_count": 6,
   "metadata": {},
   "outputs": [
    {
     "ename": "AttributeError",
     "evalue": "module 'models' has no attribute 'Net'",
     "output_type": "error",
     "traceback": [
      "\u001b[0;31m---------------------------------------------------------------------------\u001b[0m",
      "\u001b[0;31mAttributeError\u001b[0m                            Traceback (most recent call last)",
      "Cell \u001b[0;32mIn [6], line 4\u001b[0m\n\u001b[1;32m      1\u001b[0m \u001b[39mimport\u001b[39;00m \u001b[39mmodels\u001b[39;00m\n\u001b[0;32m----> 4\u001b[0m model \u001b[39m=\u001b[39m models\u001b[39m.\u001b[39;49mNet(\u001b[39m2.0\u001b[39m, \u001b[39m20\u001b[39m)\n\u001b[1;32m      5\u001b[0m y_pred \u001b[39m=\u001b[39m model(x)\n\u001b[1;32m      6\u001b[0m \u001b[39mprint\u001b[39m(y_pred)\n",
      "\u001b[0;31mAttributeError\u001b[0m: module 'models' has no attribute 'Net'"
     ]
    }
   ],
   "source": [
    "import models\n",
    "\n",
    "\n",
    "model = models.Net(2.0, 20)\n",
    "y_pred = model(x)\n",
    "print(y_pred)\n",
    "print(y)"
   ]
  }
 ],
 "metadata": {
  "kernelspec": {
   "display_name": "Python 3.10.6 ('大作业三')",
   "language": "python",
   "name": "python3"
  },
  "language_info": {
   "codemirror_mode": {
    "name": "ipython",
    "version": 3
   },
   "file_extension": ".py",
   "mimetype": "text/x-python",
   "name": "python",
   "nbconvert_exporter": "python",
   "pygments_lexer": "ipython3",
   "version": "3.10.6"
  },
  "orig_nbformat": 4,
  "vscode": {
   "interpreter": {
    "hash": "3b8befc3f0ea432330018303b2f580130d040154a145576a5b565e06f7fd9ca6"
   }
  }
 },
 "nbformat": 4,
 "nbformat_minor": 2
}
