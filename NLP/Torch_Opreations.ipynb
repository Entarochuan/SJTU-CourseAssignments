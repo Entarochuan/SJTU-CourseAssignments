{
 "cells": [
  {
   "cell_type": "markdown",
   "metadata": {},
   "source": [
    "## Torch各类操作熟悉"
   ]
  },
  {
   "cell_type": "code",
   "execution_count": 1,
   "metadata": {},
   "outputs": [],
   "source": [
    "import torch"
   ]
  },
  {
   "cell_type": "code",
   "execution_count": 7,
   "metadata": {},
   "outputs": [
    {
     "name": "stdout",
     "output_type": "stream",
     "text": [
      "origin_X tensor([[ 1.8559,  2.0338, -2.3573],\n",
      "        [-0.4788,  1.5927,  0.6477]])\n",
      "torch.Size([6, 3]) tensor([[ 1.8559,  2.0338, -2.3573],\n",
      "        [-0.4788,  1.5927,  0.6477],\n",
      "        [ 1.8559,  2.0338, -2.3573],\n",
      "        [-0.4788,  1.5927,  0.6477],\n",
      "        [ 1.8559,  2.0338, -2.3573],\n",
      "        [-0.4788,  1.5927,  0.6477]])\n",
      "torch.Size([2, 6]) tensor([[ 1.8559,  2.0338, -2.3573,  1.8559,  2.0338, -2.3573],\n",
      "        [-0.4788,  1.5927,  0.6477, -0.4788,  1.5927,  0.6477]])\n"
     ]
    }
   ],
   "source": [
    "# torch.cat\n",
    "x = torch.randn(2,3)\n",
    "x_cat_0 = torch.cat((x, x, x), axis=0)\n",
    "x_cat_1 = torch.cat((x, x), axis=1)\n",
    "print('origin_X', x)\n",
    "print(x_cat_0.shape, x_cat_0)\n",
    "print(x_cat_1.shape, x_cat_1)"
   ]
  },
  {
   "cell_type": "code",
   "execution_count": 12,
   "metadata": {},
   "outputs": [
    {
     "name": "stdout",
     "output_type": "stream",
     "text": [
      "torch.Size([2, 3, 2])\n"
     ]
    }
   ],
   "source": [
    "# torch.stack\n",
    "x = torch.randn(2,3)\n",
    "x0 = torch.stack((x, x), axis=2)\n",
    "print(x0.shape)"
   ]
  },
  {
   "cell_type": "code",
   "execution_count": 26,
   "metadata": {},
   "outputs": [
    {
     "name": "stdout",
     "output_type": "stream",
     "text": [
      "tensor([[[-0.7624],\n",
      "         [ 1.5379]],\n",
      "\n",
      "        [[ 0.2161],\n",
      "         [-0.1454]],\n",
      "\n",
      "        [[ 0.4463],\n",
      "         [-1.3024]],\n",
      "\n",
      "        [[-0.5876],\n",
      "         [ 1.4489]],\n",
      "\n",
      "        [[ 0.9670],\n",
      "         [ 0.6318]],\n",
      "\n",
      "        [[ 1.3842],\n",
      "         [ 1.2469]]])\n",
      "tensor([[[-0.7624]],\n",
      "\n",
      "        [[ 0.2161]],\n",
      "\n",
      "        [[ 0.4463]],\n",
      "\n",
      "        [[-0.5876]],\n",
      "\n",
      "        [[ 0.9670]],\n",
      "\n",
      "        [[ 1.3842]]]) tensor([[[ 1.5379]],\n",
      "\n",
      "        [[-0.1454]],\n",
      "\n",
      "        [[-1.3024]],\n",
      "\n",
      "        [[ 1.4489]],\n",
      "\n",
      "        [[ 0.6318]],\n",
      "\n",
      "        [[ 1.2469]]])\n",
      "torch.Size([6, 1, 1])\n"
     ]
    }
   ],
   "source": [
    "# torch.split\n",
    "x = torch.randn(6, 2, 1)\n",
    "print(x)\n",
    "x_split = torch.split(x, 1, dim=1)\n",
    "print(x_split[0], x_split[1])\n",
    "print(x_split[0].shape)"
   ]
  }
 ],
 "metadata": {
  "kernelspec": {
   "display_name": "Python 3.8.13 ('d2l')",
   "language": "python",
   "name": "python3"
  },
  "language_info": {
   "codemirror_mode": {
    "name": "ipython",
    "version": 3
   },
   "file_extension": ".py",
   "mimetype": "text/x-python",
   "name": "python",
   "nbconvert_exporter": "python",
   "pygments_lexer": "ipython3",
   "version": "3.8.13"
  },
  "orig_nbformat": 4,
  "vscode": {
   "interpreter": {
    "hash": "6800e12ede7b2864e9122d834c67bc469ffc126bc5bf32ee6e2d901e32bee8d5"
   }
  }
 },
 "nbformat": 4,
 "nbformat_minor": 2
}
